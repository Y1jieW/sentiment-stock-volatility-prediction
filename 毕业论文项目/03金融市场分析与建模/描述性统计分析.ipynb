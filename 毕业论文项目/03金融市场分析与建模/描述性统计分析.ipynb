{
 "cells": [
  {
   "cell_type": "code",
   "execution_count": null,
   "id": "74197a93",
   "metadata": {},
   "outputs": [],
   "source": [
    "import pandas as pd\n",
    "import numpy as np\n",
    "import seaborn as sns\n",
    "import matplotlib.pyplot as plt\n",
    "from sklearn.preprocessing import StandardScaler\n",
    "\n",
    "\n",
    "# 重新加载用户上传的 CSV 文件\n",
    "file_path = \"/Users/wangyijie/Visual_Studio_code/毕业论文项目/03金融市场分析与建模/sentiment_SPY_features_with_lag.csv\"\n",
    "df = pd.read_csv(file_path)\n",
    "\n",
    "# Select modeling variables\n",
    "model_vars = [\n",
    "    'prev_return', 'rolling_std',\n",
    "    'positive_ratio', 'negative_ratio', 'neutral_ratio',\n",
    "    'positive_ratio_lag1', 'negative_ratio_lag1', 'neutral_ratio_lag1',\n",
    "    'high_volatility'\n",
    "]\n",
    "df_model = df[model_vars].copy()\n",
    "\n",
    "# Descriptive statistics\n",
    "desc_stats = df_model.describe().T\n",
    "\n",
    "\n"
   ]
  },
  {
   "cell_type": "code",
   "execution_count": null,
   "id": "af535c43",
   "metadata": {},
   "outputs": [
    {
     "name": "stdout",
     "output_type": "stream",
     "text": [
      "                      count    mean     std     min     25%     50%     75%  \\\n",
      "prev_return          1109.0  0.0012  0.0244 -0.1094 -0.0030  0.0008  0.0060   \n",
      "rolling_std          1109.0  0.0106  0.0221  0.0004  0.0040  0.0063  0.0108   \n",
      "positive_ratio       1109.0  0.2698  0.1892  0.0000  0.1429  0.2500  0.3750   \n",
      "negative_ratio       1109.0  0.0811  0.0960  0.0000  0.0000  0.0625  0.1250   \n",
      "neutral_ratio        1109.0  0.6491  0.1936  0.0000  0.5294  0.6667  0.7778   \n",
      "positive_ratio_lag1  1109.0  0.2693  0.1889  0.0000  0.1429  0.2500  0.3750   \n",
      "negative_ratio_lag1  1109.0  0.0811  0.0960  0.0000  0.0000  0.0625  0.1250   \n",
      "neutral_ratio_lag1   1109.0  0.6496  0.1934  0.0000  0.5333  0.6667  0.7778   \n",
      "high_volatility      1109.0  0.2272  0.4192  0.0000  0.0000  0.0000  0.0000   \n",
      "\n",
      "                        max  \n",
      "prev_return          0.6843  \n",
      "rolling_std          0.3068  \n",
      "positive_ratio       1.0000  \n",
      "negative_ratio       0.6667  \n",
      "neutral_ratio        1.0000  \n",
      "positive_ratio_lag1  1.0000  \n",
      "negative_ratio_lag1  0.6667  \n",
      "neutral_ratio_lag1   1.0000  \n",
      "high_volatility      1.0000  \n"
     ]
    }
   ],
   "source": [
    "import pandas as pd\n",
    "import numpy as np\n",
    "import seaborn as sns\n",
    "import matplotlib.pyplot as plt\n",
    "from sklearn.preprocessing import StandardScaler\n",
    "\n",
    "\n",
    "# 重新加载用户上传的 CSV 文件\n",
    "file_path = \"/Users/wangyijie/Visual_Studio_code/毕业论文项目/03金融市场分析与建模/sentiment_SPY_features_with_lag.csv\"\n",
    "df = pd.read_csv(file_path)\n",
    "\n",
    "# Select modeling variables\n",
    "model_vars = [\n",
    "    'prev_return', 'rolling_std',\n",
    "    'positive_ratio', 'negative_ratio', 'neutral_ratio',\n",
    "    'positive_ratio_lag1', 'negative_ratio_lag1', 'neutral_ratio_lag1',\n",
    "    'high_volatility'\n",
    "]\n",
    "df_model = df[model_vars].copy()\n",
    "\n",
    "# Descriptive statistics\n",
    "desc_stats = df_model.describe().T\n",
    "\n",
    "\n"
   ]
  },
  {
   "cell_type": "code",
   "execution_count": 12,
   "id": "70343fc7",
   "metadata": {},
   "outputs": [],
   "source": [
    "# Correlation matrix\n",
    "correlation_matrix = df_model.corr()\n",
    "\n",
    "# Generate heatmap\n",
    "plt.figure(figsize=(10, 8))\n",
    "sns.heatmap(correlation_matrix, annot=True, fmt=\".2f\", cmap=\"coolwarm\", linewidths=0.5)\n",
    "plt.title(\"Correlation Matrix of Modeling Variables\")\n",
    "plt.tight_layout()\n",
    "plt.savefig(\"correlation_matrix_heatmap.png\")\n",
    "plt.close()"
   ]
  }
 ],
 "metadata": {
  "kernelspec": {
   "display_name": "base",
   "language": "python",
   "name": "python3"
  },
  "language_info": {
   "codemirror_mode": {
    "name": "ipython",
    "version": 3
   },
   "file_extension": ".py",
   "mimetype": "text/x-python",
   "name": "python",
   "nbconvert_exporter": "python",
   "pygments_lexer": "ipython3",
   "version": "3.12.7"
  }
 },
 "nbformat": 4,
 "nbformat_minor": 5
}
